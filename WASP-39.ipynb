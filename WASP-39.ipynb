{
 "cells": [
  {
   "cell_type": "markdown",
   "id": "da6ba5f9",
   "metadata": {},
   "source": [
    "# WASP 39 b\n",
    "\n",
    "## Learning Goals:\n",
    "\n",
    "This notebook will present the data for WASP 39b as observed by TESS. Data presented here will complement those derived from the JWST early release science. \n",
    "\n",
    "The notebook will teach the user how to do the following:\n",
    "\n",
    "1. Search TESS for data on the WASP-39 system using *Lightkurve*.\n",
    "2. Download a light curve.\n",
    "3. Find the transiting planet via a box least squares periodogram analysis.\n",
    "4. Obtaining a light curve from the TPF and reducing the data.\n",
    "\n",
    "To learn more about the TESS mission in general and the various data products please visit the [TESS Science Support Center](https://heasarc.gsfc.nasa.gov/docs/tess/).\n",
    "\n",
    "## Introduction: \n",
    "The WASP 39 system is located approximately 698 light-years from the Earth, with late G-type host star which is roughly 90% the mass and radius of our own Sun.\n",
    "\n",
    "The system is host to WASP-39 b, a highly inflated transiting Saturn mass planet which is about 30% percent the mass of Jupiter, and 30% larger. The orbital period of the planet around the host is approximately 4 days. You can learn more about this system and its parameters via the [NASA Exoplanet Archive](https://exoplanetarchive.ipac.caltech.edu/overview/WASP%2039).\n",
    "\n",
    "This planet is an interesting as it seems to have three times the amount of water vapor in its atmosphere as detected on Saturn. This object was therefore selected for follow up by JWST.\n",
    "\n",
    "\n",
    "## Imports\n",
    "\n",
    "This tutorial requires the [*Lightkurve package*](https://docs.lightkurve.org/index.html), which uses [Matplotlib](https://matplotlib.org/) for plotting. We will also use [Numpy](https://numpy.org/)."
   ]
  },
  {
   "cell_type": "code",
   "execution_count": 1,
   "id": "b98d338d",
   "metadata": {},
   "outputs": [],
   "source": [
    "%matplotlib inline \n",
    "import lightkurve as lk \n",
    "import matplotlib.pyplot as plt\n",
    "import numpy as np\n",
    "import warnings\n",
    "warnings.filterwarnings(\"ignore\")"
   ]
  },
  {
   "cell_type": "markdown",
   "id": "0dd33f25",
   "metadata": {},
   "source": [
    "## First time users: \n",
    "\n",
    "If you are not that experienced with Python, or cannot download Lightkurve, you can run this notebook as a Colab notebook. Colaboratory allows users to write and execute Python in your browser with zero configuration required.\n",
    "\n",
    "All you need is a Google account and to copy and paste in the following command at the top of your colab notebook:\n",
    "\n",
    "`!pip install lightkurve --quiet`\n",
    "\n",
    "This downloads the Lightkurve package.\n",
    "\n",
    "## 1. Search TESS for data on the WASP-96 system using *Lightkurve*.\n",
    "\n",
    "Lightkurve offers a user-friendly way to analyze time series data obtained by the TESS mission. You can search for the various WASP-96 data products using the following functions:\n",
    "\n",
    "- To the system in a full frame image: [`search_tesscut()`](https://docs.lightkurve.org/reference/api/lightkurve.search_tesscut.html?highlight=search_tesscut)\n",
    "- To look for target pixel files: [`search_targetpixelfile()`](https://docs.lightkurve.org/reference/api/lightkurve.search_targetpixelfile.html?highlight=search_targetpixelfile)\n",
    "- To obtain light curve files for WASP-96: [`search_lightcurve()`](https://docs.lightkurve.org/reference/api/lightkurve.search_lightcurve.html?highlight=search_lightcurve)\n",
    "\n"
   ]
  },
  {
   "cell_type": "markdown",
   "id": "1cf217b7",
   "metadata": {},
   "source": [
    "### 1.1 Accessing the data products\n",
    "Let’s go through each one of the above functions and see what data is available."
   ]
  },
  {
   "cell_type": "code",
   "execution_count": null,
   "id": "540599fb",
   "metadata": {},
   "outputs": [],
   "source": [
    "search_ffi = lk.search_tesscut('WASP39')\n",
    "search_tpf = lk.search_targetpixelfile('WASP39')\n",
    "search_lcf = lk.search_lightcurve('WASP39')"
   ]
  },
  {
   "cell_type": "code",
   "execution_count": null,
   "id": "d56ec3c0",
   "metadata": {},
   "outputs": [],
   "source": [
    "search_ffi"
   ]
  },
  {
   "cell_type": "markdown",
   "id": "92ee3b5d",
   "metadata": {},
   "source": [
    "The above table provides several important pieces of information: \n",
    "\n",
    "- The sector in which the object was observed. \n",
    "- The year in which the object was observed. \n",
    "- The author of the data. This can have multiple options and each is a hyperlink that when clicked will provide you with more information. \n",
    "- The cadence of the observation. \n",
    "- The name of the target. \n",
    "- The distance of the observation from your target of interest. This is useful if you conduct a cone search around your objects co-ordinates.\n",
    "\n",
    "The table above indicates that our object was observed in sectors 51 only.\n",
    "\n",
    "Let’s see if any other data exists, i.e., was it observed as a target of interest and does it have a Target Pixel File."
   ]
  },
  {
   "cell_type": "code",
   "execution_count": null,
   "id": "f9088234",
   "metadata": {},
   "outputs": [],
   "source": [
    "search_tpf"
   ]
  },
  {
   "cell_type": "markdown",
   "id": "3c286c50",
   "metadata": {},
   "source": [
    "Our object was observed as a target of interest in Sector 51. Given that there is SPOC data this means that there should be light curve files for our object already in the archive. Let’s check those out."
   ]
  },
  {
   "cell_type": "code",
   "execution_count": null,
   "id": "73afd81f",
   "metadata": {},
   "outputs": [],
   "source": [
    "search_lcf"
   ]
  },
  {
   "cell_type": "markdown",
   "id": "f9896c79",
   "metadata": {},
   "source": [
    "Wonderful! A light curve for our object of interest has already been created. "
   ]
  },
  {
   "cell_type": "markdown",
   "id": "0c61977d",
   "metadata": {},
   "source": [
    "## 2. Download a light curve:\n",
    "Now on to getting the light curve for our object of interest. Since there is only one light curve this is pretty straight forward."
   ]
  },
  {
   "cell_type": "code",
   "execution_count": null,
   "id": "5eeda9f3",
   "metadata": {},
   "outputs": [],
   "source": [
    "lc = search_lcf[0].download(quality_bitmask='hard')"
   ]
  },
  {
   "cell_type": "markdown",
   "id": "38219585",
   "metadata": {},
   "source": [
    "We can easliy plot these data using the following code"
   ]
  },
  {
   "cell_type": "code",
   "execution_count": null,
   "id": "0edbfc1c",
   "metadata": {},
   "outputs": [],
   "source": [
    "lc.plot()"
   ]
  },
  {
   "cell_type": "markdown",
   "id": "5245ec0e",
   "metadata": {},
   "source": [
    "We can clearly see the transit of our planet WASP-39 b around BTJD 2703, 2706 and 2714. \n",
    "\n",
    "Note that there are also several gaps in our light curve above. These are caused by standard data downloads (between 2704.69374 and 2705.67846) and an unusual increase in the background/scattered light (please see [TESS DRN 74](https://archive.stsci.edu/missions/tess/doc/tess_drn/tess_sector_51_drn74_v01.pdf) caused by the Earth and Moon. As such we have a higher number of data gaps than normal. \n",
    "\n",
    "When we downloaded the system data previously, we specified that only good quality data be obtained. This was done via the specification of a  [`quality_bitmask`](https://docs.lightkurve.org/reference/api/lightkurve.TessTargetPixelFile.html?highlight=quality_bitmask) parameter. \n",
    "\n",
    "We'll set the bitmask to remove some cadences, but be less aggressive than the default mask. To learn more about the [`TESSQualityFlags`](https://docs.lightkurve.org/reference/api/lightkurve.TessQualityFlags.html?highlight=tessqualityflags#lightkurve.TessQualityFlags) and bitmasks please see the [STScI documentation](https://outerspace.stsci.edu/display/TESS/2.0+-+Data+Product+Overview)."
   ]
  },
  {
   "cell_type": "code",
   "execution_count": null,
   "id": "e089aa7c-a9da-46a2-bba3-2e1be8cea7b6",
   "metadata": {},
   "outputs": [],
   "source": [
    "bitmask = (lk.utils.TessQualityFlags.SafeMode |\n",
    "           lk.utils.TessQualityFlags.CoarsePoint |\n",
    "           lk.utils.TessQualityFlags.ManualExclude )\n",
    "print(bitmask)"
   ]
  },
  {
   "cell_type": "markdown",
   "id": "4790b182-6d19-40ab-9c7c-2e4527be441e",
   "metadata": {},
   "source": [
    "This mask value removes the cadences that we are most confident will always have bad data; Safe Modes, poor pointing, and \"manual\" excludes where the TESS pipeline team has flagged a bad cadence. \n",
    "\n",
    "We'll set the light curve to a variable `lc0` as this is our first look at the light curve. Later in the tutorial, we will make an improved light curve. "
   ]
  },
  {
   "cell_type": "code",
   "execution_count": null,
   "id": "96b588e0",
   "metadata": {},
   "outputs": [],
   "source": [
    "lc0 = search_lcf[0].download(quality_bitmask=bitmask)"
   ]
  },
  {
   "cell_type": "markdown",
   "id": "0e432e5f-f4cc-4a7b-b24b-0c9fb7fb6094",
   "metadata": {},
   "source": [
    "Note that in this dataset, a solar system object moved close to our aperture during the observation, at BJD 2459714.05061599. Below we make a mask to clip the data around this event out."
   ]
  },
  {
   "cell_type": "code",
   "execution_count": null,
   "id": "20752394-54bd-4f31-b2d4-2f1afc138b89",
   "metadata": {},
   "outputs": [],
   "source": [
    "# Make a mask to remove the ~1 hour of data around where there was a solar system object close to the aperture.\n",
    "lc0 = lc0[np.abs(lc0.time.jd - 2459714.05061599) > 0.025]"
   ]
  },
  {
   "cell_type": "markdown",
   "id": "403579a6",
   "metadata": {},
   "source": [
    "We will now plot this light curve looking at SAP flux and PDCSAP flux, which are described below:\n",
    "\n",
    "- **Simple Aperture Photometry (SAP)**: The SAP light curve is calculated by summing together the brightness of pixels that fall within an aperture set by the TESS mission. This is often referred to as the optimal aperture, but in spite of its name, it can sometimes be improved upon! Because the SAP light curve is a sum of the brightness in chosen pixels, it is still subject to systematic artifacts of the mission.\n",
    "- **Pre-search Data Conditioning SAP flux (PDCSAP) flux**: SAP flux from which long-term trends have been removed using so-called Co-trending Basis Vectors (CBVs). PDCSAP flux is usually cleaner data than the SAP flux and will have fewer systematic trends."
   ]
  },
  {
   "cell_type": "code",
   "execution_count": null,
   "id": "cfdb3822",
   "metadata": {},
   "outputs": [],
   "source": [
    "ax = lc0.plot(column=\"pdcsap_flux\", label=\"WASP-39 PDCSAP\")\n",
    "lc0.plot(ax=ax, column=\"sap_flux\", label=\"WASP-39 SAP\")"
   ]
  },
  {
   "cell_type": "markdown",
   "id": "3f7eb846",
   "metadata": {},
   "source": [
    "We can see that the SAP flux contains more information than the PDCSAP, which has been refined to remove noise, scattered light, data with a larger than normal background, and instrumental effects. \n",
    "\n",
    "While the PDCSAP flux may be the best to derive the transit, the SAP data is still very useful and can be reduced further to provide a more complete light curve of the system. \n",
    "\n",
    "For now let us use the PDCSAP light curve to obtain the period of the system."
   ]
  },
  {
   "cell_type": "markdown",
   "id": "5705bdf4",
   "metadata": {},
   "source": [
    "## 3. Find the transiting planet via a box least squares periodogram analysis.\n",
    "\n",
    "You can use the [NASA Exoplanet Archive](https://exoplanetarchive.ipac.caltech.edu/) to obtain the parameters for [WASP-39b](https://exoplanetarchive.ipac.caltech.edu/overview/WASP-39). You'll see it has a period of ~4.055 days. We can also use the TESS data to find a period and transit time. \n",
    "\n",
    "The most common method used to identify transiting exoplanets is the Box Least Squares (BLS) periodogram analysis. BLS works by modeling a transit using an upside-down top hat with four parameters: period, duration, depth, and reference time. (Please see the [Identifying transiting exoplanet signals in a light curve tutorial](https://docs.lightkurve.org/tutorials/3-science-examples/exoplanets-identifying-transiting-planet-signals.html) for more information on BLS and finding exoplanets with *Lightkurve*)\n",
    "\n",
    "To analyze the light curve via the BLS method you must pass the data to the [`to_periodogram`](https://docs.lightkurve.org/reference/api/lightkurve.LightCurve.to_periodogram.html?highlight=to_periodogram) function and specify `bls` as the method. "
   ]
  },
  {
   "cell_type": "code",
   "execution_count": null,
   "id": "3586ee9a",
   "metadata": {},
   "outputs": [],
   "source": [
    "period = np.linspace(1, 20, 10000)\n",
    "bls = lc.to_periodogram(method='bls', period=period, frequency_factor=500);\n",
    "bls.plot();"
   ]
  },
  {
   "cell_type": "markdown",
   "id": "6fc2e5d3",
   "metadata": {},
   "source": [
    "The above plot indicates the power, or the likelihood of the BLS fit, for each of the periods in lightcurve data. \n",
    "There are several spikes in the plot at specific periods, but the highest power spike shows the most likely period, the remaining lower power spikes are fractional harmonics of the period."
   ]
  },
  {
   "cell_type": "markdown",
   "id": "041a0504-dcbe-4285-8310-9033faa6cfc3",
   "metadata": {},
   "source": [
    "We can refine the BLS by using a lower frequency spacing, and using the `minimum_period` and `maximum_period` arguments search close to our known period."
   ]
  },
  {
   "cell_type": "code",
   "execution_count": null,
   "id": "f606c30d-0733-44eb-907e-0901a5bcb873",
   "metadata": {},
   "outputs": [],
   "source": [
    "bls = lc.to_periodogram(method='bls',\n",
    "                        minimum_period=3.5,\n",
    "                        maximum_period=4.5,\n",
    "                        frequency_factor=1,\n",
    "                        duration=np.linspace(0.01, 0.3, 50));\n",
    "bls.plot();"
   ]
  },
  {
   "cell_type": "markdown",
   "id": "2b9d36b0-8922-444f-9227-8981d7cf2ebe",
   "metadata": {},
   "source": [
    "We can pull out the most likely BLS parameters by taking their values at maximum power as shown below."
   ]
  },
  {
   "cell_type": "code",
   "execution_count": null,
   "id": "eef7b9cf",
   "metadata": {},
   "outputs": [],
   "source": [
    "WASP39_b_period = bls.period_at_max_power\n",
    "WASP39_b_t0 = bls.transit_time_at_max_power\n",
    "WASP39_b_dur = bls.duration_at_max_power\n",
    "\n",
    "WASP39_b_period"
   ]
  },
  {
   "cell_type": "code",
   "execution_count": null,
   "id": "f17228e1",
   "metadata": {},
   "outputs": [],
   "source": [
    "print(WASP39_b_period, WASP39_b_t0, WASP39_b_dur)"
   ]
  },
  {
   "cell_type": "markdown",
   "id": "f4339696",
   "metadata": {},
   "source": [
    "We have now derived the period of the planet WASP39-b as ~4 days, which is consistent with that published.\n",
    "\n",
    "To confirm that this period and transit time (epoch) correspond to a transit signal, we can phase-fold the light curve using these values and plot it."
   ]
  },
  {
   "cell_type": "code",
   "execution_count": null,
   "id": "43ab9ac1",
   "metadata": {},
   "outputs": [],
   "source": [
    "lc0.fold(period=WASP39_b_period, epoch_time=WASP39_b_t0).normalize().scatter()"
   ]
  },
  {
   "cell_type": "markdown",
   "id": "224107a1",
   "metadata": {},
   "source": [
    "Wonderful we have now plotted our transit!\n",
    "\n",
    "## 4. Obtaining a light curve from the TPF and reducing the data\n",
    "\n",
    "As we saw in the SAP light curve, there is some data which was removed by the PDCSAP pipeline due to the poor quality of the data. \n",
    "\n",
    "Can we obtain the light curve of our object from the TPF and reduced the data ourselves, improving some of these previously discarded data points? The answer is yes!\n",
    "\n",
    "A copy of a more refined light curve can be found [here](https://github.com/rebekah9969/JWST-Sprint/blob/main/Downloads/WASP-39b_TESS_Sector51_CorrectedLC.fits).\n",
    "\n",
    "If you would like to learn how this light curve file was created, please continue with the tutorial. \n",
    "\n",
    "### 4.1 Creating a bitmask\n",
    "\n",
    "First, we must download our objects target pixel file (TPF) and remove data that we think would reduce the quality of our light curve. We can do this by specifing a bitmask mask. To learn more about the [`TESSQualityFlags`](https://docs.lightkurve.org/reference/api/lightkurve.TessQualityFlags.html?highlight=tessqualityflags#lightkurve.TessQualityFlags) and bitmasks please see the [STScI documentation](https://outerspace.stsci.edu/display/TESS/2.0+-+Data+Product+Overview). We define our bitmask below. This time, we'll include a few more flags to make a slightly more aggressive mask."
   ]
  },
  {
   "cell_type": "code",
   "execution_count": null,
   "id": "20d8cd27",
   "metadata": {},
   "outputs": [],
   "source": [
    "bitmask = (lk.utils.TessQualityFlags.SafeMode |\n",
    "           lk.utils.TessQualityFlags.CoarsePoint |\n",
    "           lk.utils.TessQualityFlags.ManualExclude  |\n",
    "           lk.utils.TessQualityFlags.Argabrightening | \n",
    "           lk.utils.TessQualityFlags.CollateralCosmic)"
   ]
  },
  {
   "cell_type": "markdown",
   "id": "5ab096fd",
   "metadata": {},
   "source": [
    "### 4.2 Downloading the TPF and applying our bitmask"
   ]
  },
  {
   "cell_type": "code",
   "execution_count": null,
   "id": "bc88deb9",
   "metadata": {},
   "outputs": [],
   "source": [
    "tpf = search_tpf[0].download(quality_bitmask=bitmask)"
   ]
  },
  {
   "cell_type": "code",
   "execution_count": null,
   "id": "7ded3991-f389-4e04-a646-f8824bafcc6d",
   "metadata": {},
   "outputs": [],
   "source": [
    "tpf.to_lightcurve().plot()"
   ]
  },
  {
   "cell_type": "markdown",
   "id": "0ad6e631-e255-45d4-813f-d889c8228a62",
   "metadata": {},
   "source": [
    "We need to remove the known solar system object from this data, as we did above."
   ]
  },
  {
   "cell_type": "code",
   "execution_count": null,
   "id": "dab1550a-f81d-4b9a-96b2-2ec09f38ec2d",
   "metadata": {},
   "outputs": [],
   "source": [
    "# Make a mask to remove the ~1 hour of data around where there was a solar system object close to the aperture.\n",
    "tpf = tpf[np.abs(tpf.time.jd - 2459714.05061599) > 0.025]"
   ]
  },
  {
   "cell_type": "code",
   "execution_count": null,
   "id": "3fd7cb27-e8c9-4cb1-b144-f268ecc8274c",
   "metadata": {},
   "outputs": [],
   "source": [
    "tpf.to_lightcurve().plot()"
   ]
  },
  {
   "cell_type": "markdown",
   "id": "94a48ba2",
   "metadata": {},
   "source": [
    "We can now plot this and see what our object looks like. We can also over plot the aperture used by the SPOC to create the previously examined light curves. We do this using the `aperture_mask` parameter and the [`.pipeline_mask`](https://docs.lightkurve.org/reference/api/lightkurve.KeplerTargetPixelFile.pipeline_mask.html?highlight=pipeline_mask#lightkurve.KeplerTargetPixelFile.pipeline_mask) function."
   ]
  },
  {
   "cell_type": "code",
   "execution_count": null,
   "id": "addcb6d4",
   "metadata": {},
   "outputs": [],
   "source": [
    "tpf.plot(aperture_mask=tpf.pipeline_mask)"
   ]
  },
  {
   "cell_type": "markdown",
   "id": "1ab73502",
   "metadata": {},
   "source": [
    "The TPF we are viewing is an official SPOC TPF, this means that the background estimates should be close to zero because these products have already been background-subtracted by the pipeline (i.e., the values in the FLUX_BKG column of the TPF have been subtracted from the values in FLUX). Background subtraction is often imperfect however, especially in this instance and as such you may want to view what the flux looks like and then re-estimate it.\n",
    "\n",
    "## 4.2 Understanding the background flux\n",
    "\n",
    "We can visualize the current background flux using the [`estimate_background`](https://docs.lightkurve.org/reference/api/lightkurve.KeplerTargetPixelFile.estimate_background.html?highlight=estimate_background) function, and specifying the \"background\" aperture, as shown below. First we make a larger pixel aperture thank the pipeline mask, to make sure we don't include any target flux."
   ]
  },
  {
   "cell_type": "code",
   "execution_count": null,
   "id": "b76f809f-9924-4304-a366-784db9300dbe",
   "metadata": {},
   "outputs": [],
   "source": [
    "# This function makes a boolean mask larger by one pixel. \n",
    "enlarge_aper = lambda x: np.any(np.asarray(np.gradient(x.astype(float))) != 0, axis=0) | x\n",
    "bigger_pipeline_mask = enlarge_aper(tpf.pipeline_mask)"
   ]
  },
  {
   "cell_type": "code",
   "execution_count": null,
   "id": "c3536239",
   "metadata": {},
   "outputs": [],
   "source": [
    "tpf.estimate_background(aperture_mask=~bigger_pipeline_mask).plot()"
   ]
  },
  {
   "cell_type": "markdown",
   "id": "4a50c986",
   "metadata": {},
   "source": [
    "There are several peaks in this light curve which illustrate the background issues we see in the data.\n",
    "\n",
    "We now want to re-estimate the background model based only on pixels close to the target. This lets us make sure we remove any high spatial or temporal frequency noise from close to the target. We can do this via the following method.\n",
    "\n",
    "1. Add the pipeline background flux back into the data."
   ]
  },
  {
   "cell_type": "code",
   "execution_count": null,
   "id": "cf469252",
   "metadata": {},
   "outputs": [],
   "source": [
    "tpf += np.nan_to_num(tpf.flux_bkg)"
   ]
  },
  {
   "cell_type": "markdown",
   "id": "8ca14496",
   "metadata": {},
   "source": [
    "2. Identify pixels not close to the source in order to create a new background aperture from which a background model can be derived."
   ]
  },
  {
   "cell_type": "code",
   "execution_count": null,
   "id": "5f863aae",
   "metadata": {},
   "outputs": [],
   "source": [
    "# This function makes a boolean mask larger by one pixel. \n",
    "enlarge_aper = lambda x: np.any(np.asarray(np.gradient(x.astype(float))) != 0, axis=0) | x\n",
    "bigger_pipeline_mask = enlarge_aper(tpf.pipeline_mask)"
   ]
  },
  {
   "cell_type": "markdown",
   "id": "f4ea8d1c",
   "metadata": {},
   "source": [
    "Lets compare our new background estimate to that from earlier "
   ]
  },
  {
   "cell_type": "markdown",
   "id": "0193bf39",
   "metadata": {},
   "source": [
    "3. Remove the median of this background model over time from the TPF flux."
   ]
  },
  {
   "cell_type": "code",
   "execution_count": null,
   "id": "423085d4",
   "metadata": {},
   "outputs": [],
   "source": [
    "tpf -= np.nanmedian(tpf.flux[:, ~bigger_pipeline_mask], axis=1)[:, None, None]"
   ]
  },
  {
   "cell_type": "markdown",
   "id": "b3119aed",
   "metadata": {},
   "source": [
    "Great we now have a new TPF file which has a better background removal!"
   ]
  },
  {
   "cell_type": "code",
   "execution_count": null,
   "id": "d0d5fb2b-fe1c-455b-a425-0b680345fff0",
   "metadata": {},
   "outputs": [],
   "source": [
    "tpf.estimate_background(aperture_mask=~bigger_pipeline_mask).plot()"
   ]
  },
  {
   "cell_type": "markdown",
   "id": "2b10f29d",
   "metadata": {},
   "source": [
    "Next, we want to pull out the light curve for our object from this new and improved TPF. We do this using the [`to_lightcurve`](https://docs.lightkurve.org/reference/api/lightkurve.KeplerTargetPixelFile.to_lightcurve.html?highlight=to_lightcurve#lightkurve.KeplerTargetPixelFile.to_lightcurve) function."
   ]
  },
  {
   "cell_type": "code",
   "execution_count": null,
   "id": "b6ab7e54",
   "metadata": {},
   "outputs": [],
   "source": [
    "lc = tpf.to_lightcurve(aperture_mask=tpf.pipeline_mask)\n",
    "lc.plot()"
   ]
  },
  {
   "cell_type": "markdown",
   "id": "f7e9ad3d",
   "metadata": {},
   "source": [
    "## 4.3 Refining our transit parameters"
   ]
  },
  {
   "cell_type": "markdown",
   "id": "65285f6a",
   "metadata": {},
   "source": [
    "This light curve is still a little noisy and has some trends we don't believe, we will remove these later in the tutorial using our knowledge of the systematics. \n",
    "\n",
    "First, however we can improve our period, transit time and duration estimates using a the BLS method from before but refining our parameter inputs using those obtained from the [NASA Exoplanet Archive](https://exoplanetarchive.ipac.caltech.edu/overview/WASP%2039).\n",
    "\n",
    "```period : 4.0552941```"
   ]
  },
  {
   "cell_type": "markdown",
   "id": "033f996b",
   "metadata": {},
   "source": [
    "We can then apply the BLS via the method and fold the light curve to show the transit as demonstrated earlier in part 3 of this tutorial."
   ]
  },
  {
   "cell_type": "code",
   "execution_count": null,
   "id": "3b7f9ab6",
   "metadata": {},
   "outputs": [],
   "source": [
    "bls_refined = lc.normalize().to_periodogram('bls',\n",
    "                                                minimum_period=4.0552941*0.99, \n",
    "                                                maximum_period=4.0552941*1.01, \n",
    "                                             duration=np.linspace(0.01, 0.1, 50), frequency_factor=1)\n",
    "period, t0, dur = bls_refined.period_at_max_power.value, bls_refined.transit_time_at_max_power.value, bls_refined.duration_at_max_power.value,"
   ]
  },
  {
   "cell_type": "code",
   "execution_count": null,
   "id": "76446d19-6bf1-4297-9355-3a3ee8503468",
   "metadata": {},
   "outputs": [],
   "source": [
    "bls_refined.plot()"
   ]
  },
  {
   "cell_type": "code",
   "execution_count": null,
   "id": "17e91423",
   "metadata": {},
   "outputs": [],
   "source": [
    "lc.fold(period, t0).errorbar()"
   ]
  },
  {
   "cell_type": "markdown",
   "id": "81f67420",
   "metadata": {},
   "source": [
    "## 4.4 Removing noise from our TPF light curve"
   ]
  },
  {
   "cell_type": "markdown",
   "id": "ab1657c3",
   "metadata": {},
   "source": [
    "As we can see there is still quite a bit of noise remining in the light curve and further reduction is required. \n",
    "\n",
    "For this tutorial we will correct our light curve using the following: \n",
    "\n",
    "1. The top three long time scale Cotrending Basis Vectors (CBVs) from the TESS mission\n",
    "2. The top three Principal Components (PCs) of the pixels close to the source\n",
    "3. A basis spline model to capture any variability in the light curve due to the star.\n",
    "4. A simple box transit model, to ensure systematics do not fit out the transit.\n",
    "5. A model for the jitter in TESS.\n",
    "\n",
    "You can learn about the details of CBV application and linear regression via the applicaton of design matrices via the following *Lightkurve* tutorials: \n",
    "\n",
    "- [Removing noise from Kepler, K2, and TESS light curves using Cotrending Basis Vectors (CBVCorrector)](https://docs.lightkurve.org/tutorials/2-creating-light-curves/2-3-how-to-use-cbvcorrector.html)\n",
    "- [Removing scattered light from TESS light curves using linear regression (RegressionCorrector)](https://docs.lightkurve.org/tutorials/2-creating-light-curves/2-3-removing-scattered-light-using-regressioncorrector.html)\n",
    "\n",
    "First, we must obtain our CBVs from the mission."
   ]
  },
  {
   "cell_type": "code",
   "execution_count": null,
   "id": "5b29e422",
   "metadata": {},
   "outputs": [],
   "source": [
    "from lightkurve.correctors import CBVCorrector\n",
    "cbvc = CBVCorrector(lc)"
   ]
  },
  {
   "cell_type": "markdown",
   "id": "e88c9c4c",
   "metadata": {},
   "source": [
    "These CBVs are associated with the CCD this target is on and for Sector 51. We can examine this object as follows:"
   ]
  },
  {
   "cell_type": "code",
   "execution_count": null,
   "id": "63488629",
   "metadata": {},
   "outputs": [],
   "source": [
    "cbvc.cbvs"
   ]
  },
  {
   "cell_type": "markdown",
   "id": "27e1e0d8",
   "metadata": {},
   "source": [
    "We see that there are a total of 5 sets of CBVs, all associated with TESS Sector 51, Camera 1 and CCD 3. The number of CBVs per type is also given. We want only the top thre as the first several CBVs contain most of the systematics. The latter CBVs pose a greater risk of injecting more noise than helping. We can specify our choices and apply these via the following code. "
   ]
  },
  {
   "cell_type": "code",
   "execution_count": null,
   "id": "4b3617c0",
   "metadata": {},
   "outputs": [],
   "source": [
    "ncbvs = 3\n",
    "multiscale3 = cbvc.cbvs[2].interpolate(lc).to_pandas()\n",
    "cbvs = np.asarray(multiscale3[multiscale3.columns[2:2+ncbvs]])"
   ]
  },
  {
   "cell_type": "markdown",
   "id": "1860c837",
   "metadata": {},
   "source": [
    "Below we plot the CBVs"
   ]
  },
  {
   "cell_type": "code",
   "execution_count": null,
   "id": "ad3a3b57",
   "metadata": {},
   "outputs": [],
   "source": [
    "plt.plot(lc.time.jd, cbvs);\n",
    "plt.title(\"Cotrending Basis Vectors\")\n",
    "plt.xlabel(\"Time [BTJD]\")"
   ]
  },
  {
   "cell_type": "markdown",
   "id": "fc0ba80c",
   "metadata": {},
   "source": [
    "Next, we want to create our design matrix. Lightkurve provides a convenient [`DesignMatrix`](https://docs.lightkurve.org/reference/api/lightkurve.correctors.DesignMatrix.html?highlight=designmatrix) class which is designed to help you work with detrending vectors.\n",
    "\n",
    "We want to look at cadences in our data where there is non NaN flux inside our aperture, and we want to specify the aperture from which we derive our trends. This aperture should be outside of our object aperture. We then want to specify the number of principal components in this matrix which we can do via the specification of `pca()`. \n",
    "\n",
    "The following code implements this process, starting with the PCA of the background pixels."
   ]
  },
  {
   "cell_type": "code",
   "execution_count": null,
   "id": "34ed7993",
   "metadata": {},
   "outputs": [],
   "source": [
    "k = np.isfinite(lc.flux) & np.isfinite(lc.flux_err)\n",
    "dm1 = lk.DesignMatrix(np.nan_to_num(tpf.flux[k][:, ~bigger_pipeline_mask]), name='bkg').pca(3)"
   ]
  },
  {
   "cell_type": "markdown",
   "id": "68761496",
   "metadata": {},
   "source": [
    "Next, we want to create a matrix which contains our CBVs.\n",
    "\n",
    "Note below, we create the CBV design matrix and then split it at any points in the light curve that have a siginificant data gap. We restrict this design matrix with some narrow priors to ensure that we don't over fit."
   ]
  },
  {
   "cell_type": "code",
   "execution_count": null,
   "id": "e2cc25f6",
   "metadata": {},
   "outputs": [],
   "source": [
    "dm2 = lk.DesignMatrix(cbvs[k], name='cbvs', prior_mu=[0, 0, 0], prior_sigma=[0.01, 0.01, 0.01]).split(list(np.where(np.diff(lc[k].cadenceno) > 100)[0] + 1))"
   ]
  },
  {
   "cell_type": "markdown",
   "id": "f7ce0039",
   "metadata": {},
   "source": [
    "We then create a design matrix with a spline that has 120 knots. This creates a smooth, flexible model to remove variability on approximately day long time scales."
   ]
  },
  {
   "cell_type": "code",
   "execution_count": null,
   "id": "50cbfed8",
   "metadata": {},
   "outputs": [],
   "source": [
    "dm3 = lk.designmatrix.create_spline_matrix(tpf.time.jd[k], n_knots=120)"
   ]
  },
  {
   "cell_type": "markdown",
   "id": "dafd4f0b-3786-437c-97d4-9d7988294f09",
   "metadata": {},
   "source": [
    "We additionally can make a design matrix that includes a simple box model of our transit. This allows us to fit flexibly for the transit shape without having other noise components over fit. Here we have included the same model, shifted in phase to allow for any signals of secondary eclipses."
   ]
  },
  {
   "cell_type": "code",
   "execution_count": null,
   "id": "5e1d26ab-4be2-4781-a7e5-a1070e9bbadd",
   "metadata": {},
   "outputs": [],
   "source": [
    "dm4 = lk.DesignMatrix(np.vstack([bls_refined.get_transit_mask(period, dur, t0).astype(float),\n",
    "                                 bls_refined.get_transit_mask(period, dur, t0 + period/2).astype(float)]).T, name='transit')"
   ]
  },
  {
   "cell_type": "markdown",
   "id": "db639453-fca6-4e3f-bccb-59de58e032c7",
   "metadata": {},
   "source": [
    "Finally, we add in a design matrix that contains the `POSCORR` attribute from the TPF. This captures the motion of the target due to TESS jitter, and is built by the TESS pipeline."
   ]
  },
  {
   "cell_type": "code",
   "execution_count": null,
   "id": "e6796fcf-86d6-433b-b9e1-460d91aabb9c",
   "metadata": {},
   "outputs": [],
   "source": [
    "dm5 = lk.DesignMatrix(np.nan_to_num(np.vstack([tpf.pos_corr1, tpf.pos_corr2, tpf.pos_corr1*tpf.pos_corr2]).T)[k], name='centroids', prior_mu=[0, 0, 0], prior_sigma=[0.01, 0.01, 0.01]).split(list(np.where(np.diff(lc[k].cadenceno) > 100)[0] + 1))"
   ]
  },
  {
   "cell_type": "markdown",
   "id": "cda2433f",
   "metadata": {},
   "source": [
    "We then combine these to form our final matrix to be applied."
   ]
  },
  {
   "cell_type": "code",
   "execution_count": null,
   "id": "f09551e2",
   "metadata": {},
   "outputs": [],
   "source": [
    "dm = lk.DesignMatrixCollection([dm1, dm2, dm3, dm4, dm5])"
   ]
  },
  {
   "cell_type": "markdown",
   "id": "e5892f78",
   "metadata": {},
   "source": [
    "Before we apply this matrix however, we must first mask our light curve for the transits. This will ensure that we do not overfit during these times. "
   ]
  },
  {
   "cell_type": "markdown",
   "id": "e3fb3322",
   "metadata": {},
   "source": [
    "Finally, let us correct our light curve using our design matrix."
   ]
  },
  {
   "cell_type": "code",
   "execution_count": null,
   "id": "2f851082",
   "metadata": {},
   "outputs": [],
   "source": [
    "r = lk.RegressionCorrector(lc[k].normalize())\n",
    "clc = r.correct(dm)\n",
    "\n",
    "# The RegressionCorrector has fit and removed out simple box model from `dm4`\n",
    "# We add the best fit box transit back into the light curve here\n",
    "clc += r.diagnostic_lightcurves['transit']"
   ]
  },
  {
   "cell_type": "markdown",
   "id": "bcc1fc88",
   "metadata": {},
   "source": [
    "We can now assess the quality of our fit using the `diagnose` function"
   ]
  },
  {
   "cell_type": "code",
   "execution_count": null,
   "id": "9c6a2f50",
   "metadata": {},
   "outputs": [],
   "source": [
    "r.diagnose()"
   ]
  },
  {
   "cell_type": "markdown",
   "id": "2dd831e3",
   "metadata": {},
   "source": [
    "In these plots we can see each correction applied and the overall alteration on the initial light curve. We also note the outliers marked in red on the bottom plot, and the masked transits in blue. We can see that all the different components are fitting a different unique of the light curve, which is what we are trying to achieve.\n",
    "\n",
    "Let us now compare to our earlier uncorrected light curve. "
   ]
  },
  {
   "cell_type": "code",
   "execution_count": null,
   "id": "bf518210-18a0-4e10-aa98-2f5ff60d7d6f",
   "metadata": {},
   "outputs": [],
   "source": [
    "ax = clc.fold(period, t0).errorbar(ls='', label='Corrected', lw=0.1)\n",
    "(lc.normalize().fold(period, t0) + 0.05).errorbar(ax=ax, c='r', ls='', label='Simple Background Removal', lw=0.1)"
   ]
  },
  {
   "cell_type": "markdown",
   "id": "acc6afc6-130d-464c-93a5-82df7cb84d39",
   "metadata": {},
   "source": [
    "Here we have added an offset to make the distinction between the two light curves clear."
   ]
  },
  {
   "cell_type": "code",
   "execution_count": null,
   "id": "d490c397",
   "metadata": {},
   "outputs": [],
   "source": [
    "ax = clc.fold(period, t0).errorbar(ls='', label='Corrected', lw=0.5)\n",
    "(lc.normalize().fold(period, t0) + 0.05).errorbar(ax=ax, c='r', ls='', label='Simple Background Removal', lw=0.5)\n",
    "plt.xlim(-0.3, 0.3)"
   ]
  },
  {
   "cell_type": "markdown",
   "id": "9f5786e1-9c84-4079-afff-c4ca480950f8",
   "metadata": {},
   "source": [
    "Our final light curve has an improvement in the noise properties and long term trends after our correction. We can check this by plotting a histogram of the out of transit flux. We see below, the corrected flux has a narrower histogram, showing it has a tigheter distribution."
   ]
  },
  {
   "cell_type": "code",
   "execution_count": null,
   "id": "463a61bf-3ea1-49e0-bcda-d668170e26d6",
   "metadata": {},
   "outputs": [],
   "source": [
    "transit_mask = bls_refined.get_transit_mask(period, dur * 1.5, t0)\n",
    "plt.hist(lc.normalize()[k][~transit_mask].flux.value, np.linspace(0.97, 1.03, 50), color='r', alpha=0.5, label='Simple Background Removal', density=True)\n",
    "plt.hist(clc[~transit_mask].flux.value, np.linspace(0.97, 1.03, 50), color='k', alpha=0.5, label='Corrected', density=True);\n",
    "plt.title(\"Out of Transit Cadences\")\n",
    "plt.legend()\n",
    "plt.xlabel(\"Flux Value\")\n",
    "plt.ylabel(\"Density\")"
   ]
  },
  {
   "cell_type": "markdown",
   "id": "0769c0be-bdb7-4826-94fc-ce1bfc0d430f",
   "metadata": {},
   "source": [
    "Below we plot the individual transits from the light curve."
   ]
  },
  {
   "cell_type": "code",
   "execution_count": null,
   "id": "1d7ba815-29de-4af3-beac-e1467233d223",
   "metadata": {},
   "outputs": [],
   "source": [
    "transit_times = bls_refined.compute_stats(period, dur, t0)['transit_times']\n",
    "for t in transit_times:\n",
    "    ax = clc.errorbar(ls='', label='Corrected', lw=0.5)\n",
    "    (lc.normalize() + 0.05).errorbar(ax=ax, c='r', ls='', label='Simple Background Removal', lw=0.5)\n",
    "    plt.xlim(t.jd - 1 - 2457000, t.jd + 1 - 2457000)"
   ]
  },
  {
   "cell_type": "markdown",
   "id": "2db366e5-f08d-429c-a7c6-57ddfd711354",
   "metadata": {},
   "source": [
    "We can now write out our final corrected light curve to a fits file."
   ]
  },
  {
   "cell_type": "code",
   "execution_count": null,
   "id": "685bfa38",
   "metadata": {},
   "outputs": [],
   "source": [
    "clc.to_fits('WASP-39b_TESS_Sector51_CorrectedLC.fits', overwrite=True)"
   ]
  }
 ],
 "metadata": {
  "kernelspec": {
   "display_name": "Python 3",
   "language": "python",
   "name": "python3"
  },
  "language_info": {
   "codemirror_mode": {
    "name": "ipython",
    "version": 3
   },
   "file_extension": ".py",
   "mimetype": "text/x-python",
   "name": "python",
   "nbconvert_exporter": "python",
   "pygments_lexer": "ipython3",
   "version": "3.8.7"
  }
 },
 "nbformat": 4,
 "nbformat_minor": 5
}
